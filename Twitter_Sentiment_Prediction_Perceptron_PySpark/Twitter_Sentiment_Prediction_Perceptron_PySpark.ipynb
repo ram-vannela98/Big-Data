{
  "nbformat": 4,
  "nbformat_minor": 0,
  "metadata": {
    "colab": {
      "provenance": []
    },
    "kernelspec": {
      "name": "python3",
      "display_name": "Python 3"
    },
    "language_info": {
      "name": "python"
    }
  },
  "cells": [
    {
      "cell_type": "code",
      "execution_count": 1,
      "metadata": {
        "colab": {
          "base_uri": "https://localhost:8080/"
        },
        "id": "9Uo5ezwt05E-",
        "outputId": "a354fda7-f172-438b-e278-63aa5e9520ff"
      },
      "outputs": [
        {
          "output_type": "stream",
          "name": "stdout",
          "text": [
            "Looking in indexes: https://pypi.org/simple, https://us-python.pkg.dev/colab-wheels/public/simple/\n",
            "Collecting findspark\n",
            "  Downloading findspark-2.0.1-py2.py3-none-any.whl (4.4 kB)\n",
            "Installing collected packages: findspark\n",
            "Successfully installed findspark-2.0.1\n"
          ]
        }
      ],
      "source": [
        "# innstall java\n",
        "!apt-get install openjdk-8-jdk-headless -qq > /dev/null\n",
        "\n",
        "# install spark (change the version number if needed)\n",
        "!wget -q https://archive.apache.org/dist/spark/spark-3.0.0/spark-3.0.0-bin-hadoop3.2.tgz\n",
        "\n",
        "# unzip the spark file to the current folder\n",
        "!tar xf spark-3.0.0-bin-hadoop3.2.tgz\n",
        "\n",
        "# set your spark folder to your system path environment. \n",
        "import os\n",
        "os.environ[\"JAVA_HOME\"] = \"/usr/lib/jvm/java-8-openjdk-amd64\"\n",
        "os.environ[\"SPARK_HOME\"] = \"/content/spark-3.0.0-bin-hadoop3.2\"\n",
        "\n",
        "!pip install findspark\n",
        "\n",
        "import findspark\n",
        "findspark.init()\n",
        "\n",
        "from pyspark.sql import SparkSession\n",
        "spark = SparkSession.builder.master(\"local[*]\").getOrCreate()\n",
        "#spark = SparkSession.builder.master(\"local[4]\")  # this creates spark session to  run locally, the braket[] means number of cores \n",
        "\n",
        "\n"
      ]
    },
    {
      "cell_type": "code",
      "source": [
        "from pyspark.sql import SparkSession\n",
        "\n",
        "spark = SparkSession \\\n",
        "    .builder \\\n",
        "    .appName(\"Python Spark ML basic example\") \\\n",
        "    .config(\"spark.some.config.option\", \"some-value\") \\\n",
        "    .getOrCreate()"
      ],
      "metadata": {
        "id": "UvsJNcUe1bo2"
      },
      "execution_count": 3,
      "outputs": []
    },
    {
      "cell_type": "code",
      "source": [
        "# importing required libraries\n",
        "#!pip install OneHotEncoder\n",
        "\n",
        "from pyspark import SparkContext\n",
        "from pyspark.sql.session import SparkSession\n",
        "from pyspark.streaming import StreamingContext\n",
        "import pyspark.sql.types as tp\n",
        "from pyspark.ml import Pipeline\n",
        "from pyspark.ml.feature import StringIndexer, OneHotEncoder, VectorAssembler\n",
        "from pyspark.ml.feature import StopWordsRemover, Word2Vec, RegexTokenizer\n",
        "#from pyspark.sql import Row\n",
        "\n",
        "# define the schema\n",
        "my_schema = tp.StructType([\n",
        "  tp.StructField(name= 'id',          dataType= tp.IntegerType(),  nullable= True),\n",
        "  tp.StructField(name= 'label',       dataType= tp.IntegerType(),  nullable= True),\n",
        "  tp.StructField(name= 'tweet',       dataType= tp.StringType(),   nullable= True)\n",
        "])\n"
      ],
      "metadata": {
        "id": "PJoBBm9S15AQ"
      },
      "execution_count": null,
      "outputs": []
    },
    {
      "cell_type": "code",
      "source": [
        "import pandas\n",
        "import warnings\n",
        "from matplotlib import pyplot\n",
        "from matplotlib import rcParams\n",
        "rcParams['font.family'] = 'Times New Roman'\n",
        "rcParams['font.size'] = '10'\n",
        "\n",
        "warnings.simplefilter(action='ignore', category=FutureWarning)\n",
        "warnings.filterwarnings(\"ignore\", category=DeprecationWarning)\n",
        "warnings.filterwarnings(\"ignore\")\n",
        "\n",
        "# Give path of file\n",
        "dataset_file = \"/content/drive/MyDrive/big data/week 6/twitter_sentiments.csv\"\n",
        "\n",
        "# read the dataset  \n",
        "dataset = spark.read.csv(dataset_file,inferSchema=True, header =True)\n",
        "\n",
        "  \n",
        "\n",
        "# view the data\n",
        "dataset.show(5)\n",
        "\n",
        "# print the schema of the file\n",
        "dataset.printSchema()"
      ],
      "metadata": {
        "colab": {
          "base_uri": "https://localhost:8080/"
        },
        "id": "EmjgVghi45yg",
        "outputId": "60103054-90a3-4a31-dece-e41774de34b0"
      },
      "execution_count": 4,
      "outputs": [
        {
          "output_type": "stream",
          "name": "stdout",
          "text": [
            "+---+-----+--------------------+\n",
            "| id|label|               tweet|\n",
            "+---+-----+--------------------+\n",
            "|  1|    0| @user when a fat...|\n",
            "|  2|    0|@user @user thank...|\n",
            "|  3|    0|  bihday your maj...|\n",
            "|  4|    0|#model   i love u...|\n",
            "|  5|    0| factsguide: soci...|\n",
            "+---+-----+--------------------+\n",
            "only showing top 5 rows\n",
            "\n",
            "root\n",
            " |-- id: integer (nullable = true)\n",
            " |-- label: integer (nullable = true)\n",
            " |-- tweet: string (nullable = true)\n",
            "\n"
          ]
        }
      ]
    },
    {
      "cell_type": "code",
      "source": [
        "dataset.printSchema()\n",
        "\n",
        "\n",
        "# remove null values\n",
        "dataset.na.fill(0).show()\n",
        "\n",
        "\n",
        "print(dataset.tail(5))"
      ],
      "metadata": {
        "colab": {
          "base_uri": "https://localhost:8080/"
        },
        "id": "gtqMaxhN5zIH",
        "outputId": "f6108e9b-e2ed-4ad0-b168-5c72b1df8173"
      },
      "execution_count": 6,
      "outputs": [
        {
          "output_type": "stream",
          "name": "stdout",
          "text": [
            "root\n",
            " |-- id: integer (nullable = true)\n",
            " |-- label: integer (nullable = true)\n",
            " |-- tweet: string (nullable = true)\n",
            "\n",
            "+---+-----+--------------------+\n",
            "| id|label|               tweet|\n",
            "+---+-----+--------------------+\n",
            "|  1|    0| @user when a fat...|\n",
            "|  2|    0|@user @user thank...|\n",
            "|  3|    0|  bihday your maj...|\n",
            "|  4|    0|#model   i love u...|\n",
            "|  5|    0| factsguide: soci...|\n",
            "|  6|    0|[2/2] huge fan fa...|\n",
            "|  7|    0| @user camping to...|\n",
            "|  8|    0|the next school y...|\n",
            "|  9|    0|we won!!! love th...|\n",
            "| 10|    0| @user @user welc...|\n",
            "| 11|    0| â #ireland con...|\n",
            "| 12|    0|we are so selfish...|\n",
            "| 13|    0|i get to see my d...|\n",
            "| 14|    1|@user #cnn calls ...|\n",
            "| 15|    1|no comment!  in #...|\n",
            "| 16|    0|ouch...junior is ...|\n",
            "| 17|    0|i am thankful for...|\n",
            "| 18|    1|retweet if you ag...|\n",
            "| 19|    0|its #friday! ð...|\n",
            "| 20|    0|as we all know, e...|\n",
            "+---+-----+--------------------+\n",
            "only showing top 20 rows\n",
            "\n",
            "[Row(id=31958, label=0, tweet='ate @user isz that youuu?ð\\x9f\\x98\\x8dð\\x9f\\x98\\x8dð\\x9f\\x98\\x8dð\\x9f\\x98\\x8dð\\x9f\\x98\\x8dð\\x9f\\x98\\x8dð\\x9f\\x98\\x8dð\\x9f\\x98\\x8dð\\x9f\\x98\\x8dâ\\x9d¤ï¸\\x8f '), Row(id=31959, label=0, tweet='  to see nina turner on the airwaves trying to wrap herself in the mantle of a genuine hero like shirley chisolm. #shame #imwithher'), Row(id=31960, label=0, tweet='listening to sad songs on a monday morning otw to work is sad  '), Row(id=31961, label=1, tweet='@user #sikh #temple vandalised in in #calgary, #wso condemns  act  '), Row(id=31962, label=0, tweet='thank you @user for you follow  ')]\n"
          ]
        }
      ]
    },
    {
      "cell_type": "code",
      "source": [
        "from pyspark.ml.feature import StopWordsRemover, Word2Vec, RegexTokenizer\n",
        "\n",
        "# define stage 1: tokenize the tweet text    \n",
        "stage_1 = RegexTokenizer(inputCol= 'tweet' , outputCol= 'tokens', pattern= '\\\\W')\n",
        "# define stage 2: remove the stop words\n",
        "stage_2 = StopWordsRemover(inputCol= 'tokens', outputCol= 'filtered_words')\n",
        "\n",
        "# define stage 3: create a word vector of the size 100\n",
        "stage_3 = Word2Vec(inputCol= 'filtered_words', outputCol= 'vector', vectorSize= 100)\n"
      ],
      "metadata": {
        "id": "5JbO2B-w5-S6"
      },
      "execution_count": 14,
      "outputs": []
    },
    {
      "cell_type": "code",
      "source": [
        "#Train, test split\n",
        "train, test = dataset.randomSplit([0.8, 0.9], seed=12345)"
      ],
      "metadata": {
        "id": "b4SoZDSF6ktx"
      },
      "execution_count": 15,
      "outputs": []
    },
    {
      "cell_type": "code",
      "source": [
        "print(train)\n",
        "train.head(10)"
      ],
      "metadata": {
        "colab": {
          "base_uri": "https://localhost:8080/"
        },
        "id": "NCif4QDM95Zy",
        "outputId": "bf8c5bcc-4377-4e45-ee35-2280ce1a8521"
      },
      "execution_count": 16,
      "outputs": [
        {
          "output_type": "stream",
          "name": "stdout",
          "text": [
            "DataFrame[id: int, label: int, tweet: string]\n"
          ]
        },
        {
          "output_type": "execute_result",
          "data": {
            "text/plain": [
              "[Row(id=1, label=0, tweet=' @user when a father is dysfunctional and is so selfish he drags his kids into his dysfunction.   #run'),\n",
              " Row(id=2, label=0, tweet=\"@user @user thanks for #lyft credit i can't use cause they don't offer wheelchair vans in pdx.    #disapointed #getthanked\"),\n",
              " Row(id=3, label=0, tweet='  bihday your majesty'),\n",
              " Row(id=4, label=0, tweet='#model   i love u take with u all the time in urð\\x9f\\x93±!!! ð\\x9f\\x98\\x99ð\\x9f\\x98\\x8eð\\x9f\\x91\\x84ð\\x9f\\x91\\x85ð\\x9f\\x92¦ð\\x9f\\x92¦ð\\x9f\\x92¦  '),\n",
              " Row(id=8, label=0, tweet=\"the next school year is the year for exams.ð\\x9f\\x98¯ can't think about that ð\\x9f\\x98\\xad #school #exams   #hate #imagine #actorslife #revolutionschool #girl\"),\n",
              " Row(id=9, label=0, tweet='we won!!! love the land!!! #allin #cavs #champions #cleveland #clevelandcavaliers  â\\x80¦ '),\n",
              " Row(id=11, label=0, tweet=' â\\x86\\x9d #ireland consumer price index (mom) climbed from previous 0.2% to 0.5% in may   #blog #silver #gold #forex'),\n",
              " Row(id=12, label=0, tweet='we are so selfish. #orlando #standwithorlando #pulseshooting #orlandoshooting #biggerproblems #selfish #heabreaking   #values #love #'),\n",
              " Row(id=15, label=1, tweet='no comment!  in #australia   #opkillingbay #seashepherd #helpcovedolphins #thecove  #helpcovedolphins'),\n",
              " Row(id=20, label=0, tweet='as we all know, essential oils are not made of chemicals. ')]"
            ]
          },
          "metadata": {},
          "execution_count": 16
        }
      ]
    },
    {
      "cell_type": "code",
      "source": [
        "# Define MLP\n",
        "from pyspark.ml.classification import MultilayerPerceptronClassifier\n",
        "\n",
        "#layers = [100, 2]\n",
        "\n",
        "layers = [100, 101, 100, 100, 100, 2]\n",
        "\n",
        "# create the trainer and set its parameters\n",
        "trainer = MultilayerPerceptronClassifier(maxIter=10, \n",
        "                                         featuresCol= 'vector', \n",
        "                                         layers=layers, \n",
        "                                         labelCol= 'label',  \n",
        "                                         stepSize = 0.01, \n",
        "                                         seed=1234)"
      ],
      "metadata": {
        "id": "b-9McniL98ko"
      },
      "execution_count": 18,
      "outputs": []
    },
    {
      "cell_type": "code",
      "source": [
        "from pyspark.ml import Pipeline\n",
        "# setup the pipeline\n",
        "pipeline = Pipeline(stages= [stage_1, stage_2, stage_3, trainer])"
      ],
      "metadata": {
        "id": "MejetgiC_vB8"
      },
      "execution_count": 21,
      "outputs": []
    },
    {
      "cell_type": "code",
      "source": [
        "# Fit the pipeline to training documents.\n",
        "mlp_model = pipeline.fit(train)\n",
        "predictions_test = mlp_model.transform(test)\n",
        "predictions_train = mlp_model.transform(train)\n"
      ],
      "metadata": {
        "id": "U1yiDHL4-r9F"
      },
      "execution_count": 22,
      "outputs": []
    },
    {
      "cell_type": "code",
      "source": [
        "predictions_test.show()\n"
      ],
      "metadata": {
        "colab": {
          "base_uri": "https://localhost:8080/"
        },
        "id": "ro1W4Lrb_rfn",
        "outputId": "4c0ea449-8858-4c1d-bf25-184d98896631"
      },
      "execution_count": 23,
      "outputs": [
        {
          "output_type": "stream",
          "name": "stdout",
          "text": [
            "+---+-----+--------------------+--------------------+--------------------+--------------------+--------------------+--------------------+----------+\n",
            "| id|label|               tweet|              tokens|      filtered_words|              vector|       rawPrediction|         probability|prediction|\n",
            "+---+-----+--------------------+--------------------+--------------------+--------------------+--------------------+--------------------+----------+\n",
            "|  5|    0| factsguide: soci...|[factsguide, soci...|[factsguide, soci...|[0.00623145544280...|[1.95376239150133...|[0.92550977227754...|       0.0|\n",
            "|  6|    0|[2/2] huge fan fa...|[2, 2, huge, fan,...|[2, 2, huge, fan,...|[0.01033640914381...|[1.95320862056869...|[0.92541956557855...|       0.0|\n",
            "|  7|    0| @user camping to...|[user, camping, t...|[user, camping, t...|[0.04970375024078...|[1.94781664672250...|[0.92447978635659...|       0.0|\n",
            "| 10|    0| @user @user welc...|[user, user, welc...|[user, user, welc...|[0.02850510999560...|[1.94973636174848...|[0.92482689475141...|       0.0|\n",
            "| 13|    0|i get to see my d...|[i, get, to, see,...|[get, see, daddy,...|[0.01423414175709...|[1.95364776313907...|[0.92545114931641...|       0.0|\n",
            "| 14|    1|@user #cnn calls ...|[user, cnn, calls...|[user, cnn, calls...|[0.01290904418565...|[1.95284690956360...|[0.92535501899966...|       0.0|\n",
            "| 16|    0|ouch...junior is ...|[ouch, junior, is...|[ouch, junior, an...|[-0.0107937141853...|[1.95454013983186...|[0.92562711725318...|       0.0|\n",
            "| 17|    0|i am thankful for...|[i, am, thankful,...|[thankful, paner,...|[0.10765672754496...|[1.96128090355441...|[0.92656430048001...|       0.0|\n",
            "| 18|    1|retweet if you ag...|[retweet, if, you...|    [retweet, agree]|[0.02126020379364...|[1.95360913505369...|[0.92549616952809...|       0.0|\n",
            "| 19|    0|its #friday! ð...|[its, friday, smi...|[friday, smiles, ...|[0.03084324370138...|[1.95227663824003...|[0.92525067079728...|       0.0|\n",
            "| 22|    0|sad little dude.....|[sad, little, dud...|[sad, little, dud...|[0.00973530465530...|[1.95422639205806...|[0.92557371801445...|       0.0|\n",
            "| 25|    0| @user #tgif   #f...|[user, tgif, ff, ...|[user, tgif, ff, ...|[0.03081341984216...|[1.94893114070158...|[0.92469986173308...|       0.0|\n",
            "| 26|    0|beautiful sign by...|[beautiful, sign,...|[beautiful, sign,...|[0.01654233240212...|[1.95475131327721...|[0.92566915979299...|       0.0|\n",
            "| 30|    0|50 people went to...|[50, people, went...|[50, people, went...|[0.01629529833007...|[1.95360967580632...|[0.92547933355326...|       0.0|\n",
            "| 34|    0|it was a hard mon...|[it, was, a, hard...|[hard, monday, du...|[0.00757019496946...|[1.95391119120545...|[0.92552346817060...|       0.0|\n",
            "| 35|    1|it's unbelievable...|[it, s, unbelieva...|[unbelievable, 21...|[9.26117774926953...|[1.95409965500873...|[0.92557473695899...|       0.0|\n",
            "| 37|    0|morning~~ #travel...|[morning, traveli...|[morning, traveli...|[0.00768289994448...|[1.95438783173157...|[0.92557047762090...|       0.0|\n",
            "| 40|    0|i am thankful for...|[i, am, thankful,...|[thankful, sunshi...|[0.11814183555543...|[1.96157617307821...|[0.92661076907317...|       0.0|\n",
            "| 41|    0|when you finally ...|[when, you, final...|[finally, finish,...|[0.00993004615884...|[1.95278935214824...|[0.92535824124861...|       0.0|\n",
            "| 45|    0|lovely echeveria ...|[lovely, echeveri...|[lovely, echeveri...|[0.01010102340951...|[1.95376887121602...|[0.92551222343342...|       0.0|\n",
            "+---+-----+--------------------+--------------------+--------------------+--------------------+--------------------+--------------------+----------+\n",
            "only showing top 20 rows\n",
            "\n"
          ]
        }
      ]
    },
    {
      "cell_type": "code",
      "source": [
        "#Get some sample predictions\n",
        "predictions_test.select('tweet','label','prediction').show(20)"
      ],
      "metadata": {
        "colab": {
          "base_uri": "https://localhost:8080/"
        },
        "id": "6E5SlY1kAnTZ",
        "outputId": "de6905ce-973d-42d7-ddbe-6cc51a236c36"
      },
      "execution_count": 24,
      "outputs": [
        {
          "output_type": "stream",
          "name": "stdout",
          "text": [
            "+--------------------+-----+----------+\n",
            "|               tweet|label|prediction|\n",
            "+--------------------+-----+----------+\n",
            "| factsguide: soci...|    0|       0.0|\n",
            "|[2/2] huge fan fa...|    0|       0.0|\n",
            "| @user camping to...|    0|       0.0|\n",
            "| @user @user welc...|    0|       0.0|\n",
            "|i get to see my d...|    0|       0.0|\n",
            "|@user #cnn calls ...|    1|       0.0|\n",
            "|ouch...junior is ...|    0|       0.0|\n",
            "|i am thankful for...|    0|       0.0|\n",
            "|retweet if you ag...|    1|       0.0|\n",
            "|its #friday! ð...|    0|       0.0|\n",
            "|sad little dude.....|    0|       0.0|\n",
            "| @user #tgif   #f...|    0|       0.0|\n",
            "|beautiful sign by...|    0|       0.0|\n",
            "|50 people went to...|    0|       0.0|\n",
            "|it was a hard mon...|    0|       0.0|\n",
            "|it's unbelievable...|    1|       0.0|\n",
            "|morning~~ #travel...|    0|       0.0|\n",
            "|i am thankful for...|    0|       0.0|\n",
            "|when you finally ...|    0|       0.0|\n",
            "|lovely echeveria ...|    0|       0.0|\n",
            "+--------------------+-----+----------+\n",
            "only showing top 20 rows\n",
            "\n"
          ]
        }
      ]
    },
    {
      "cell_type": "code",
      "source": [
        "import matplotlib.pyplot as plt\n",
        "from pyspark.ml.evaluation import MulticlassClassificationEvaluator\n",
        "\n",
        "\n",
        "evaluator = MulticlassClassificationEvaluator(labelCol=\"label\", predictionCol=\"prediction\", metricName=\"accuracy\")\n",
        "accuracy_test = evaluator.evaluate(predictions_test)\n",
        "accuracy_train = evaluator.evaluate(predictions_train)\n",
        "\n",
        "print(\"Test Error =  \" , (1 - accuracy_test))\n",
        "print(\"Test Accuracy = \" , (accuracy_test))\n",
        "\n",
        "print(\"Training Error =  \" , (1 - accuracy_train))\n",
        "print(\"Training Accuracy  = \" , (accuracy_train))\n",
        "\n",
        "predictions_test.printSchema()  \n",
        "summary = predictions_test.summary\n",
        "print(summary)\n"
      ],
      "metadata": {
        "colab": {
          "base_uri": "https://localhost:8080/"
        },
        "id": "lwNK0HSsArsf",
        "outputId": "d235d09e-8352-4d70-eb5b-fa5eced0c8f9"
      },
      "execution_count": 25,
      "outputs": [
        {
          "output_type": "stream",
          "name": "stdout",
          "text": [
            "Test Error =   0.06975920679886682\n",
            "Test Accuracy =  0.9302407932011332\n",
            "Training Error =   0.07058196830470098\n",
            "Training Accuracy  =  0.929418031695299\n",
            "root\n",
            " |-- id: integer (nullable = true)\n",
            " |-- label: integer (nullable = true)\n",
            " |-- tweet: string (nullable = true)\n",
            " |-- tokens: array (nullable = true)\n",
            " |    |-- element: string (containsNull = true)\n",
            " |-- filtered_words: array (nullable = true)\n",
            " |    |-- element: string (containsNull = true)\n",
            " |-- vector: vector (nullable = true)\n",
            " |-- rawPrediction: vector (nullable = true)\n",
            " |-- probability: vector (nullable = true)\n",
            " |-- prediction: double (nullable = false)\n",
            "\n",
            "<bound method DataFrame.summary of DataFrame[id: int, label: int, tweet: string, tokens: array<string>, filtered_words: array<string>, vector: vector, rawPrediction: vector, probability: vector, prediction: double]>\n"
          ]
        }
      ]
    },
    {
      "cell_type": "code",
      "source": [
        "import matplotlib.pyplot as plt\n",
        "plt.style.use('ggplot')\n",
        "\n",
        "x = ['test accuracy', 'training accuracy']\n",
        "accuracy = [accuracy_test, accuracy_train]\n",
        "\n",
        "x_pos = [i for i, _ in enumerate(x)]  # you can replace _ with anynamne you want, \n",
        "\n",
        "plt.bar(x_pos, accuracy, color='green')\n",
        "plt.xlabel(\" Data Partition\")\n",
        "plt.ylabel(\"Accuracy\")\n",
        "plt.title(\"Accuracy of the Perceptron Algorithm\")\n",
        "\n",
        "plt.xticks(x_pos, x)\n",
        "\n",
        "plt.show()"
      ],
      "metadata": {
        "colab": {
          "base_uri": "https://localhost:8080/",
          "height": 354
        },
        "id": "PZDRVFl4A4t7",
        "outputId": "557f0da4-6756-4e16-8047-50e656440674"
      },
      "execution_count": 26,
      "outputs": [
        {
          "output_type": "stream",
          "name": "stderr",
          "text": [
            "WARNING:matplotlib.font_manager:findfont: Font family ['Times New Roman'] not found. Falling back to DejaVu Sans.\n",
            "WARNING:matplotlib.font_manager:findfont: Font family ['Times New Roman'] not found. Falling back to DejaVu Sans.\n",
            "WARNING:matplotlib.font_manager:findfont: Font family ['Times New Roman'] not found. Falling back to DejaVu Sans.\n"
          ]
        },
        {
          "output_type": "display_data",
          "data": {
            "text/plain": [
              "<Figure size 432x288 with 1 Axes>"
            ],
            "image/png": "[encoded data removed]"
          },
          "metadata": {}
        }
      ]
    },
    {
      "cell_type": "code",
      "source": [],
      "metadata": {
        "id": "BX5YGmokBCgb"
      },
      "execution_count": null,
      "outputs": []
    }
  ]
}
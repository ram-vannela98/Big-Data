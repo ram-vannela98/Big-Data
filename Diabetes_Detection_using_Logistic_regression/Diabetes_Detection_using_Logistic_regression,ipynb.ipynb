{
  "nbformat": 4,
  "nbformat_minor": 0,
  "metadata": {
    "colab": {
      "provenance": []
    },
    "kernelspec": {
      "name": "python3",
      "display_name": "Python 3"
    },
    "language_info": {
      "name": "python"
    }
  },
  "cells": [
    {
      "cell_type": "code",
      "execution_count": 1,
      "metadata": {
        "colab": {
          "base_uri": "https://localhost:8080/"
        },
        "id": "euqWbx-tGvjU",
        "outputId": "51e90811-3415-400c-8301-3d8af2a8b94c"
      },
      "outputs": [
        {
          "output_type": "stream",
          "name": "stdout",
          "text": [
            "Looking in indexes: https://pypi.org/simple, https://us-python.pkg.dev/colab-wheels/public/simple/\n",
            "Collecting pyspark\n",
            "  Downloading pyspark-3.3.2.tar.gz (281.4 MB)\n",
            "\u001b[2K     \u001b[90m━━━━━━━━━━━━━━━━━━━━━━━━━━━━━━━━━━━━━━━\u001b[0m \u001b[32m281.4/281.4 MB\u001b[0m \u001b[31m4.2 MB/s\u001b[0m eta \u001b[36m0:00:00\u001b[0m\n",
            "\u001b[?25h  Preparing metadata (setup.py) ... \u001b[?25l\u001b[?25hdone\n",
            "Collecting py4j==0.10.9.5\n",
            "  Downloading py4j-0.10.9.5-py2.py3-none-any.whl (199 kB)\n",
            "\u001b[2K     \u001b[90m━━━━━━━━━━━━━━━━━━━━━━━━━━━━━━━━━━━━━━━\u001b[0m \u001b[32m199.7/199.7 KB\u001b[0m \u001b[31m8.1 MB/s\u001b[0m eta \u001b[36m0:00:00\u001b[0m\n",
            "\u001b[?25hBuilding wheels for collected packages: pyspark\n",
            "  Building wheel for pyspark (setup.py) ... \u001b[?25l\u001b[?25hdone\n",
            "  Created wheel for pyspark: filename=pyspark-3.3.2-py2.py3-none-any.whl size=281824025 sha256=4e215f60f8446c9eb47e7e3bf883eb284b7aebcafd420462a56d9f48f4a29bb0\n",
            "  Stored in directory: /root/.cache/pip/wheels/6c/e3/9b/0525ce8a69478916513509d43693511463c6468db0de237c86\n",
            "Successfully built pyspark\n",
            "Installing collected packages: py4j, pyspark\n",
            "Successfully installed py4j-0.10.9.5 pyspark-3.3.2\n"
          ]
        }
      ],
      "source": [
        "##Install pyspark in google colab\n",
        "!pip3 install pyspark\n"
      ]
    },
    {
      "cell_type": "code",
      "source": [
        "# create pyspark session\n",
        "import pyspark"
      ],
      "metadata": {
        "id": "iis6W1sfHC_L"
      },
      "execution_count": 71,
      "outputs": []
    },
    {
      "cell_type": "code",
      "source": [
        "from pyspark.sql import SparkSession"
      ],
      "metadata": {
        "id": "fjWZ2KhAHKDm"
      },
      "execution_count": 12,
      "outputs": []
    },
    {
      "cell_type": "code",
      "source": [
        "from pyspark.sql import SparkSession\n",
        "spark= SparkSession.builder.master(\"local[*]\").getOrCreate()\n",
        "spark"
      ],
      "metadata": {
        "colab": {
          "base_uri": "https://localhost:8080/",
          "height": 222
        },
        "id": "RB2ndnVBIJCy",
        "outputId": "a0b98f9d-a28e-46e7-92e6-4fbf7c15c328"
      },
      "execution_count": 13,
      "outputs": [
        {
          "output_type": "execute_result",
          "data": {
            "text/plain": [
              "<pyspark.sql.session.SparkSession at 0x7f8aa1b213a0>"
            ],
            "text/html": [
              "\n",
              "            <div>\n",
              "                <p><b>SparkSession - in-memory</b></p>\n",
              "                \n",
              "        <div>\n",
              "            <p><b>SparkContext</b></p>\n",
              "\n",
              "            <p><a href=\"http://c962f30eb3d8:4040\">Spark UI</a></p>\n",
              "\n",
              "            <dl>\n",
              "              <dt>Version</dt>\n",
              "                <dd><code>v3.3.2</code></dd>\n",
              "              <dt>Master</dt>\n",
              "                <dd><code>local</code></dd>\n",
              "              <dt>AppName</dt>\n",
              "                <dd><code>tutor</code></dd>\n",
              "            </dl>\n",
              "        </div>\n",
              "        \n",
              "            </div>\n",
              "        "
            ]
          },
          "metadata": {},
          "execution_count": 13
        }
      ]
    },
    {
      "cell_type": "code",
      "source": [
        "spark = SparkSession.builder.appName(\"tutor\")\\\n",
        "                            .master(\"local\")\\\n",
        "                            .config(\"spark.some.config.option\", \"some-value\") \\\n",
        "                            .getOrCreate()\n",
        "\n",
        "spark"
      ],
      "metadata": {
        "colab": {
          "base_uri": "https://localhost:8080/",
          "height": 222
        },
        "id": "jDDEOJ-7HT38",
        "outputId": "67128db0-394d-44a9-e443-857b84e4266a"
      },
      "execution_count": 14,
      "outputs": [
        {
          "output_type": "execute_result",
          "data": {
            "text/plain": [
              "<pyspark.sql.session.SparkSession at 0x7f8aa1b213a0>"
            ],
            "text/html": [
              "\n",
              "            <div>\n",
              "                <p><b>SparkSession - in-memory</b></p>\n",
              "                \n",
              "        <div>\n",
              "            <p><b>SparkContext</b></p>\n",
              "\n",
              "            <p><a href=\"http://c962f30eb3d8:4040\">Spark UI</a></p>\n",
              "\n",
              "            <dl>\n",
              "              <dt>Version</dt>\n",
              "                <dd><code>v3.3.2</code></dd>\n",
              "              <dt>Master</dt>\n",
              "                <dd><code>local</code></dd>\n",
              "              <dt>AppName</dt>\n",
              "                <dd><code>tutor</code></dd>\n",
              "            </dl>\n",
              "        </div>\n",
              "        \n",
              "            </div>\n",
              "        "
            ]
          },
          "metadata": {},
          "execution_count": 14
        }
      ]
    },
    {
      "cell_type": "code",
      "source": [
        "#raw_data = spark.read.format(\"csv\").option(\"header\",\"true\").option(\"inferSchema\", \"true\").load(r\".\\\\diabetes.csv\")\n",
        "df = spark.read.csv('/content/drive/MyDrive/big data/week 2/diabetes (2) (1).csv',inferSchema=True,header=True)"
      ],
      "metadata": {
        "id": "hlTPIvyKHx_F"
      },
      "execution_count": 15,
      "outputs": []
    },
    {
      "cell_type": "code",
      "source": [
        "df"
      ],
      "metadata": {
        "colab": {
          "base_uri": "https://localhost:8080/"
        },
        "id": "Tge7wTyAJNmN",
        "outputId": "37cf934d-f381-4600-b8ee-eac129597f8c"
      },
      "execution_count": 16,
      "outputs": [
        {
          "output_type": "execute_result",
          "data": {
            "text/plain": [
              "DataFrame[Pregnancies: int, Glucose: int, BloodPressure: int, SkinThickness: int, Insulin: int, BMI: double, DiabetesPedigreeFunction: double, Age: int, Outcome: int]"
            ]
          },
          "metadata": {},
          "execution_count": 16
        }
      ]
    },
    {
      "cell_type": "code",
      "source": [
        "# what are the columns in this dataset\n",
        "df.columns"
      ],
      "metadata": {
        "colab": {
          "base_uri": "https://localhost:8080/"
        },
        "id": "-Q5vb8OCJOAt",
        "outputId": "0e8065b3-4ced-4b10-985e-0634a933ce95"
      },
      "execution_count": 18,
      "outputs": [
        {
          "output_type": "execute_result",
          "data": {
            "text/plain": [
              "['Pregnancies',\n",
              " 'Glucose',\n",
              " 'BloodPressure',\n",
              " 'SkinThickness',\n",
              " 'Insulin',\n",
              " 'BMI',\n",
              " 'DiabetesPedigreeFunction',\n",
              " 'Age',\n",
              " 'Outcome']"
            ]
          },
          "metadata": {},
          "execution_count": 18
        }
      ]
    },
    {
      "cell_type": "code",
      "source": [
        "df.describe().select('Insulin',\n",
        " 'BMI',\n",
        " 'DiabetesPedigreeFunction',\n",
        " 'Age',\n",
        " 'Outcome').show()"
      ],
      "metadata": {
        "colab": {
          "base_uri": "https://localhost:8080/"
        },
        "id": "PJ9uJXAVJTXr",
        "outputId": "c391ecc8-2cf2-4c91-d3a3-2384175db5e8"
      },
      "execution_count": 20,
      "outputs": [
        {
          "output_type": "stream",
          "name": "stdout",
          "text": [
            "+------------------+------------------+------------------------+------------------+------------------+\n",
            "|           Insulin|               BMI|DiabetesPedigreeFunction|               Age|           Outcome|\n",
            "+------------------+------------------+------------------------+------------------+------------------+\n",
            "|               768|               768|                     768|               768|               768|\n",
            "| 79.79947916666667|31.992578124999977|      0.4718763020833327|33.240885416666664|0.3489583333333333|\n",
            "|115.24400235133803| 7.884160320375441|       0.331328595012775|11.760231540678689| 0.476951377242799|\n",
            "|                 0|               0.0|                   0.078|                21|                 0|\n",
            "|               846|              67.1|                    2.42|                81|                 1|\n",
            "+------------------+------------------+------------------------+------------------+------------------+\n",
            "\n"
          ]
        }
      ]
    },
    {
      "cell_type": "code",
      "source": [
        "import numpy as np\n",
        "from pyspark.sql.functions import when\n",
        "df = df.withColumn('Insulin',when(df.Insulin==0,np.nan).otherwise(df.Insulin))\n",
        "df=df.withColumn(\"BloodPressure\",when(df.BloodPressure==0,np.nan).otherwise(df.BloodPressure))\n",
        "df=df.withColumn(\"SkinThickness\",when(df.SkinThickness==0,np.nan).otherwise(df.SkinThickness))\n",
        "df=df.withColumn(\"BMI\",when(df.BMI==0,np.nan).otherwise(df.BMI))\n",
        "df=df.withColumn(\"Insulin\",when(df.Insulin==0,np.nan).otherwise(df.Insulin))"
      ],
      "metadata": {
        "id": "-_yQsu3nJjvE"
      },
      "execution_count": 39,
      "outputs": []
    },
    {
      "cell_type": "code",
      "source": [
        "df.select(\"Insulin\",\"Glucose\",\"BloodPressure\",\"SkinThickness\",\"BMI\").show(5)"
      ],
      "metadata": {
        "colab": {
          "base_uri": "https://localhost:8080/"
        },
        "id": "vx43xj66KeOD",
        "outputId": "2ed1a632-1d1c-4d4f-b8ed-6efb8c055b5b"
      },
      "execution_count": 40,
      "outputs": [
        {
          "output_type": "stream",
          "name": "stdout",
          "text": [
            "+-----------------+-------+-------------+-------------+----+\n",
            "|          Insulin|Glucose|BloodPressure|SkinThickness| BMI|\n",
            "+-----------------+-------+-------------+-------------+----+\n",
            "|155.5482233502538|    148|         72.0|         35.0|33.6|\n",
            "|155.5482233502538|     85|         66.0|         29.0|26.6|\n",
            "|155.5482233502538|    183|         64.0|          NaN|23.3|\n",
            "|             94.0|     89|         66.0|         23.0|28.1|\n",
            "|            168.0|    137|         40.0|         35.0|43.1|\n",
            "+-----------------+-------+-------------+-------------+----+\n",
            "only showing top 5 rows\n",
            "\n"
          ]
        }
      ]
    },
    {
      "cell_type": "code",
      "source": [
        "df.describe().select('Insulin',\n",
        " 'BMI',\n",
        " 'DiabetesPedigreeFunction',\n",
        " 'Age',\n",
        " 'Outcome').show(5)"
      ],
      "metadata": {
        "colab": {
          "base_uri": "https://localhost:8080/"
        },
        "id": "SdwvLU3vKfRE",
        "outputId": "c9f0184f-59c1-4453-f0f5-bc97016e9ce3"
      },
      "execution_count": 41,
      "outputs": [
        {
          "output_type": "stream",
          "name": "stdout",
          "text": [
            "+-----------------+----+------------------------+------------------+------------------+\n",
            "|          Insulin| BMI|DiabetesPedigreeFunction|               Age|           Outcome|\n",
            "+-----------------+----+------------------------+------------------+------------------+\n",
            "|              768| 768|                     768|               768|               768|\n",
            "|155.5482233502544| NaN|      0.4718763020833327|33.240885416666664|0.3489583333333333|\n",
            "| 85.0211077692212| NaN|       0.331328595012775|11.760231540678689| 0.476951377242799|\n",
            "|             14.0|18.2|                   0.078|                21|                 0|\n",
            "|            846.0| NaN|                    2.42|                81|                 1|\n",
            "+-----------------+----+------------------------+------------------+------------------+\n",
            "\n"
          ]
        }
      ]
    },
    {
      "cell_type": "code",
      "source": [],
      "metadata": {
        "id": "c6I70XbtREz-"
      },
      "execution_count": null,
      "outputs": []
    },
    {
      "cell_type": "code",
      "source": [
        "#impute\n",
        "from pyspark.ml.feature import Imputer\n",
        "imputer=Imputer(inputCols=[\"Glucose\",\"BloodPressure\",\"SkinThickness\",\"BMI\",\"Insulin\"],outputCols=[\"Glucose\",\"BloodPressure\",\"SkinThickness\",\"BMI\",\"Insulin\"])\n",
        "\n",
        "model=imputer.fit(df)\n",
        "df = model.transform(df)\n",
        "df.show(10)\n"
      ],
      "metadata": {
        "colab": {
          "base_uri": "https://localhost:8080/"
        },
        "id": "3CH6qMKqLnKj",
        "outputId": "068254ca-c252-4bdf-9dd0-b2d679e5cf07"
      },
      "execution_count": 44,
      "outputs": [
        {
          "output_type": "stream",
          "name": "stdout",
          "text": [
            "+-----------+-------+-----------------+------------------+-----------------+-----------------+------------------------+---+-------+\n",
            "|Pregnancies|Glucose|    BloodPressure|     SkinThickness|          Insulin|              BMI|DiabetesPedigreeFunction|Age|Outcome|\n",
            "+-----------+-------+-----------------+------------------+-----------------+-----------------+------------------------+---+-------+\n",
            "|          6|    148|             72.0|              35.0|155.5482233502538|             33.6|                   0.627| 50|      1|\n",
            "|          1|     85|             66.0|              29.0|155.5482233502538|             26.6|                   0.351| 31|      0|\n",
            "|          8|    183|             64.0|29.153419593345657|155.5482233502538|             23.3|                   0.672| 32|      1|\n",
            "|          1|     89|             66.0|              23.0|             94.0|             28.1|                   0.167| 21|      0|\n",
            "|          0|    137|             40.0|              35.0|            168.0|             43.1|                   2.288| 33|      1|\n",
            "|          5|    116|             74.0|29.153419593345657|155.5482233502538|             25.6|                   0.201| 30|      0|\n",
            "|          3|     78|             50.0|              32.0|             88.0|             31.0|                   0.248| 26|      1|\n",
            "|         10|    115|72.40518417462484|29.153419593345657|155.5482233502538|             35.3|                   0.134| 29|      0|\n",
            "|          2|    197|             70.0|              45.0|            543.0|             30.5|                   0.158| 53|      1|\n",
            "|          8|    125|             96.0|29.153419593345657|155.5482233502538|32.45746367239099|                   0.232| 54|      1|\n",
            "+-----------+-------+-----------------+------------------+-----------------+-----------------+------------------------+---+-------+\n",
            "only showing top 10 rows\n",
            "\n"
          ]
        }
      ]
    },
    {
      "cell_type": "code",
      "source": [
        "#us combine all the features in one single feature vector.\n",
        "cols = df.columns\n",
        "cols.remove('Outcome')\n",
        "# Let us import the vector assembler\n",
        "from pyspark.ml.feature import VectorAssembler\n",
        "assembler = VectorAssembler(inputCols=cols,outputCol='feature')\n",
        "# Now let us use the transform method to transform our dataset\n",
        "df = assembler.transform(df)\n",
        "df.select('feature').show(truncate=False)\n"
      ],
      "metadata": {
        "colab": {
          "base_uri": "https://localhost:8080/"
        },
        "id": "CRtxCbw0OQdg",
        "outputId": "cd28ee04-4016-4bd8-a74a-3929a6db6374"
      },
      "execution_count": 51,
      "outputs": [
        {
          "output_type": "stream",
          "name": "stdout",
          "text": [
            "+-----------------------------------------------------------------------------------+\n",
            "|feature                                                                            |\n",
            "+-----------------------------------------------------------------------------------+\n",
            "|[6.0,148.0,72.0,35.0,155.5482233502538,33.6,0.627,50.0]                            |\n",
            "|[1.0,85.0,66.0,29.0,155.5482233502538,26.6,0.351,31.0]                             |\n",
            "|[8.0,183.0,64.0,29.153419593345657,155.5482233502538,23.3,0.672,32.0]              |\n",
            "|[1.0,89.0,66.0,23.0,94.0,28.1,0.167,21.0]                                          |\n",
            "|[0.0,137.0,40.0,35.0,168.0,43.1,2.288,33.0]                                        |\n",
            "|[5.0,116.0,74.0,29.153419593345657,155.5482233502538,25.6,0.201,30.0]              |\n",
            "|[3.0,78.0,50.0,32.0,88.0,31.0,0.248,26.0]                                          |\n",
            "|[10.0,115.0,72.40518417462484,29.153419593345657,155.5482233502538,35.3,0.134,29.0]|\n",
            "|[2.0,197.0,70.0,45.0,543.0,30.5,0.158,53.0]                                        |\n",
            "|[8.0,125.0,96.0,29.153419593345657,155.5482233502538,32.45746367239099,0.232,54.0] |\n",
            "|[4.0,110.0,92.0,29.153419593345657,155.5482233502538,37.6,0.191,30.0]              |\n",
            "|[10.0,168.0,74.0,29.153419593345657,155.5482233502538,38.0,0.537,34.0]             |\n",
            "|[10.0,139.0,80.0,29.153419593345657,155.5482233502538,27.1,1.441,57.0]             |\n",
            "|[1.0,189.0,60.0,23.0,846.0,30.1,0.398,59.0]                                        |\n",
            "|[5.0,166.0,72.0,19.0,175.0,25.8,0.587,51.0]                                        |\n",
            "|[7.0,100.0,72.40518417462484,29.153419593345657,155.5482233502538,30.0,0.484,32.0] |\n",
            "|[0.0,118.0,84.0,47.0,230.0,45.8,0.551,31.0]                                        |\n",
            "|[7.0,107.0,74.0,29.153419593345657,155.5482233502538,29.6,0.254,31.0]              |\n",
            "|[1.0,103.0,30.0,38.0,83.0,43.3,0.183,33.0]                                         |\n",
            "|[1.0,115.0,70.0,30.0,96.0,34.6,0.529,32.0]                                         |\n",
            "+-----------------------------------------------------------------------------------+\n",
            "only showing top 20 rows\n",
            "\n"
          ]
        }
      ]
    },
    {
      "cell_type": "code",
      "source": [
        "from pyspark.ml.feature import StandardScaler\n",
        "standardscaler = StandardScaler().setInputCol('feature').setOutputCol('Scaled_features')\n",
        "df = standardscaler.fit(df).transform(df)\n",
        "df.select('feature','Scaled_features').show(10)"
      ],
      "metadata": {
        "colab": {
          "base_uri": "https://localhost:8080/"
        },
        "id": "Razncoi6S09B",
        "outputId": "2d21eb4b-fff8-4e5a-b323-01e6b97c4efa"
      },
      "execution_count": 52,
      "outputs": [
        {
          "output_type": "stream",
          "name": "stdout",
          "text": [
            "+--------------------+--------------------+\n",
            "|             feature|     Scaled_features|\n",
            "+--------------------+--------------------+\n",
            "|[6.0,148.0,72.0,3...|[1.78063837321943...|\n",
            "|[1.0,85.0,66.0,29...|[0.29677306220323...|\n",
            "|[8.0,183.0,64.0,2...|[2.37418449762590...|\n",
            "|[1.0,89.0,66.0,23...|[0.29677306220323...|\n",
            "|[0.0,137.0,40.0,3...|[0.0,4.2849165233...|\n",
            "|[5.0,116.0,74.0,2...|[1.48386531101619...|\n",
            "|[3.0,78.0,50.0,32...|[0.89031918660971...|\n",
            "|[10.0,115.0,72.40...|[2.96773062203238...|\n",
            "|[2.0,197.0,70.0,4...|[0.59354612440647...|\n",
            "|[8.0,125.0,96.0,2...|[2.37418449762590...|\n",
            "+--------------------+--------------------+\n",
            "only showing top 10 rows\n",
            "\n"
          ]
        }
      ]
    },
    {
      "cell_type": "code",
      "source": [
        "#Train, test split\n",
        "train,test = df.randomSplit([0.8,0.2],seed=12345)"
      ],
      "metadata": {
        "id": "yx5gdniiVqzY"
      },
      "execution_count": 53,
      "outputs": []
    },
    {
      "cell_type": "code",
      "source": [
        " #imbalance in the dataset\n",
        " df_size = float(train.select('Outcome').count())\n",
        " numPostive = train.select('Outcome').where('Outcome == 1').count()\n",
        " per_ones = (float(numPostive)/float(df_size))*100\n",
        " numNegative = float(df_size - numPostive)\n",
        "print('The number of ones are {}'.format(numPostive))\n",
        "print('Percentage of ones are {}'.format(per_ones))"
      ],
      "metadata": {
        "colab": {
          "base_uri": "https://localhost:8080/"
        },
        "id": "SCj4IE50WE8A",
        "outputId": "3f15d277-dfbb-409a-88fd-5411315b9c83"
      },
      "execution_count": 62,
      "outputs": [
        {
          "output_type": "stream",
          "name": "stdout",
          "text": [
            "The number of ones are 219\n",
            "Percentage of ones are 34.92822966507177\n"
          ]
        }
      ]
    },
    {
      "cell_type": "code",
      "source": [
        "BalancingRatio= numNegative/df_size\n",
        "print('BalancingRatio = {}'.format(BalancingRatio))"
      ],
      "metadata": {
        "colab": {
          "base_uri": "https://localhost:8080/"
        },
        "id": "GjngYceKXvXG",
        "outputId": "94ec0dcf-c187-4465-98b8-72803e914711"
      },
      "execution_count": 63,
      "outputs": [
        {
          "output_type": "stream",
          "name": "stdout",
          "text": [
            "BalancingRatio = 0.6507177033492823\n"
          ]
        }
      ]
    },
    {
      "cell_type": "code",
      "source": [
        "# balance \n",
        "train = train.withColumn('classWeights',when(train.Outcome==1,BalancingRatio).otherwise(1-BalancingRatio))\n",
        "train.select('classWeights').show()"
      ],
      "metadata": {
        "colab": {
          "base_uri": "https://localhost:8080/"
        },
        "id": "Xwf5Tu3eX7jI",
        "outputId": "649ac51e-78d7-4daa-c687-bc9bb50971f6"
      },
      "execution_count": 64,
      "outputs": [
        {
          "output_type": "stream",
          "name": "stdout",
          "text": [
            "+-------------------+\n",
            "|       classWeights|\n",
            "+-------------------+\n",
            "|0.34928229665071775|\n",
            "|0.34928229665071775|\n",
            "|0.34928229665071775|\n",
            "|0.34928229665071775|\n",
            "|0.34928229665071775|\n",
            "|0.34928229665071775|\n",
            "|0.34928229665071775|\n",
            "|0.34928229665071775|\n",
            "|0.34928229665071775|\n",
            "|0.34928229665071775|\n",
            "|0.34928229665071775|\n",
            "|0.34928229665071775|\n",
            "|0.34928229665071775|\n",
            "|0.34928229665071775|\n",
            "|0.34928229665071775|\n",
            "|0.34928229665071775|\n",
            "| 0.6507177033492823|\n",
            "|0.34928229665071775|\n",
            "|0.34928229665071775|\n",
            "|0.34928229665071775|\n",
            "+-------------------+\n",
            "only showing top 20 rows\n",
            "\n"
          ]
        }
      ]
    },
    {
      "cell_type": "code",
      "source": [
        "#Feature selection\n",
        "# Feature selection using chisquareSelector\n",
        "from pyspark.ml.feature import ChiSqSelector\n",
        "\n",
        "css = ChiSqSelector(featuresCol='Scaled_features',outputCol='Aspect',labelCol='Outcome',fpr=0.05)\n",
        "train = css.fit(train).transform(train)\n",
        "test = css.fit(test).transform(test)\n",
        "test.select(\"Aspect\").show(5,truncate=False)\n",
        "\n"
      ],
      "metadata": {
        "colab": {
          "base_uri": "https://localhost:8080/"
        },
        "id": "uoC0KubLa2gB",
        "outputId": "644de60f-dc8d-4945-d8ed-030d31353bf2"
      },
      "execution_count": 65,
      "outputs": [
        {
          "output_type": "stream",
          "name": "stdout",
          "text": [
            "+----------------------------------------------------------------------------------------------------------------------------------------+\n",
            "|Aspect                                                                                                                                  |\n",
            "+----------------------------------------------------------------------------------------------------------------------------------------+\n",
            "|[0.0,2.6272480873267474,6.778906518747398,3.526357045954172,1.4702231396384098,5.556241336417194,0.7032293726142661,1.955743806611537]  |\n",
            "|[0.0,3.1589530573809705,5.290853868290652,1.93380870262003,1.8295247783934943,3.0544782215906037,0.7605742570763735,1.785679127775751]  |\n",
            "|[0.0,3.1589530573809705,5.373523459982693,3.1850966866682846,1.8295247783934943,3.5781030595775647,0.7153019798694465,1.870711467193644]|\n",
            "|[0.0,3.1902298203253365,6.2002193769031075,2.616329421191805,1.8295247783934943,4.720981710256498,1.726382837490816,1.785679127775751]  |\n",
            "|[0.0,3.2840601091584345,5.621532235058818,2.5025759680965094,1.8295247783934943,2.9090268777053367,0.7122838280556514,1.870711467193644]|\n",
            "+----------------------------------------------------------------------------------------------------------------------------------------+\n",
            "only showing top 5 rows\n",
            "\n"
          ]
        }
      ]
    },
    {
      "cell_type": "code",
      "source": [
        "#Building a classification model using Logistic Regression\n",
        "from pyspark.ml.classification import LogisticRegression\n",
        "lr = LogisticRegression(labelCol='Outcome',featuresCol='Aspect',weightCol='classWeights',maxIter=10)\n",
        "model = lr.fit(train)\n",
        "predict_train =  model.transform(train)\n",
        "predict_test = model.transform(test)\n",
        "predict_test.select('Outcome','prediction').show(10)\n"
      ],
      "metadata": {
        "colab": {
          "base_uri": "https://localhost:8080/"
        },
        "id": "wtI-gRUOfUDO",
        "outputId": "d48a458a-d0e3-4854-83f7-ebe71c12bafe"
      },
      "execution_count": 68,
      "outputs": [
        {
          "output_type": "stream",
          "name": "stdout",
          "text": [
            "+-------+----------+\n",
            "|Outcome|prediction|\n",
            "+-------+----------+\n",
            "|      0|       0.0|\n",
            "|      0|       0.0|\n",
            "|      0|       0.0|\n",
            "|      0|       0.0|\n",
            "|      0|       0.0|\n",
            "|      0|       0.0|\n",
            "|      0|       0.0|\n",
            "|      0|       1.0|\n",
            "|      1|       1.0|\n",
            "|      1|       1.0|\n",
            "+-------+----------+\n",
            "only showing top 10 rows\n",
            "\n"
          ]
        }
      ]
    },
    {
      "cell_type": "code",
      "source": [
        "#Evaluating the model\n",
        "from pyspark.ml.evaluation import BinaryClassificationEvaluator\n",
        "from pyspark.ml.evaluation import BinaryClassificationEvaluator\n",
        "evaluator=BinaryClassificationEvaluator(rawPredictionCol=\"rawPrediction\",labelCol=\"Outcome\")\n",
        "predict_test.select(\"Outcome\",\"rawPrediction\",\"prediction\",\"probability\").show(5)"
      ],
      "metadata": {
        "colab": {
          "base_uri": "https://localhost:8080/"
        },
        "id": "O0rfhnjXiKQa",
        "outputId": "5a76b2bc-f65a-46e5-d1d6-011d69e832e8"
      },
      "execution_count": 69,
      "outputs": [
        {
          "output_type": "stream",
          "name": "stdout",
          "text": [
            "+-------+--------------------+----------+--------------------+\n",
            "|Outcome|       rawPrediction|prediction|         probability|\n",
            "+-------+--------------------+----------+--------------------+\n",
            "|      0|[1.68926464236830...|       0.0|[0.84412742871331...|\n",
            "|      0|[2.76116625856994...|       0.0|[0.94054088906675...|\n",
            "|      0|[2.42526935318258...|       0.0|[0.91873403305078...|\n",
            "|      0|[1.39997353027292...|       0.0|[0.80217968817905...|\n",
            "|      0|[2.74538584670097...|       0.0|[0.93965223021091...|\n",
            "+-------+--------------------+----------+--------------------+\n",
            "only showing top 5 rows\n",
            "\n"
          ]
        }
      ]
    },
    {
      "cell_type": "code",
      "source": [
        "print(model.summary)\n",
        "import matplotlib.pyplot as plt\n",
        "pr = model.summary.pr.toPandas()\n",
        "plt.plot(pr['recall'],pr['precision'])\n",
        "plt.ylabel('Precision')\n",
        "plt.xlabel('Recall')\n",
        "plt.show()"
      ],
      "metadata": {
        "colab": {
          "base_uri": "https://localhost:8080/",
          "height": 297
        },
        "id": "xl8bM5Y9irIF",
        "outputId": "4ee4a2d3-6f67-4e93-c1fe-a1737a1b0005"
      },
      "execution_count": 70,
      "outputs": [
        {
          "output_type": "stream",
          "name": "stdout",
          "text": [
            "<pyspark.ml.classification.BinaryLogisticRegressionTrainingSummary object at 0x7f8a8bb1cee0>\n"
          ]
        },
        {
          "output_type": "display_data",
          "data": {
            "text/plain": [
              "<Figure size 432x288 with 1 Axes>"
            ],
            "image/png": "[encoded data removed]"
          },
          "metadata": {
            "needs_background": "light"
          }
        }
      ]
    },
    {
      "cell_type": "code",
      "source": [],
      "metadata": {
        "id": "NvaBmlhJiu6T"
      },
      "execution_count": null,
      "outputs": []
    }
  ]
}